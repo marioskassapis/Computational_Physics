{
 "cells": [
  {
   "cell_type": "markdown",
   "metadata": {
    "collapsed": true
   },
   "source": [
    "# Project 2: Solving Quantum Systems Numerically"
   ]
  },
  {
   "cell_type": "code",
   "execution_count": 2,
   "metadata": {},
   "outputs": [],
   "source": [
    "import numpy as np\n",
    "import matplotlib.pyplot as plt\n",
    "from scipy.optimize import curve_fit"
   ]
  },
  {
   "cell_type": "markdown",
   "metadata": {},
   "source": [
    "### Consider a time-dependent 1D quantum-mechanical system, consisting of a single particle initially well-localised in space. We can model this particle's wavefunction as a wavepacket (Gaussian).\n",
    "\n",
    "$$ \\Psi(z) = \\frac{1}{\\pi^{\\frac{1}{4}}} e ^ {ia(z)} e ^ {\\frac{-z^2}{2}}  $$\n",
    "\n",
    "### We design an experiment to measure the position of this particle, which lies somewhere between $z_1$ and $z_2$. We are thus interested in integrating the square of the absolute value of the wavefunction, between these limits. \n",
    "\n",
    "$$|\\Psi|^2 = \\frac{1}{\\sqrt{\\pi}} e ^ {-z^2}$$\n",
    "\n",
    "\n",
    "\n"
   ]
  },
  {
   "cell_type": "code",
   "execution_count": 3,
   "metadata": {},
   "outputs": [
    {
     "data": {
      "text/plain": [
       "<matplotlib.legend.Legend at 0x7f209752b518>"
      ]
     },
     "execution_count": 3,
     "metadata": {},
     "output_type": "execute_result"
    },
    {
     "data": {
      "image/png": "[encoded data removed]",
      "text/plain": [
       "<Figure size 432x288 with 1 Axes>"
      ]
     },
     "metadata": {
      "needs_background": "light"
     },
     "output_type": "display_data"
    }
   ],
   "source": [
    "#First of all we create this psi squared function\n",
    "\n",
    "def PsiSquared(z):\n",
    "    \n",
    "    psisquared = (1 / np.sqrt(np.pi)) * np.exp(-z*z)\n",
    "    \n",
    "    return psisquared\n",
    "\n",
    "#We now want to plot this function, so we have to create a sample space:\n",
    "\n",
    "space = np.linspace(-5,5,1000)\n",
    "\n",
    "#Now plot psi squared:\n",
    "\n",
    "plt.title(\"Plot of Normalised Wavefunction PDF $|\\Psi (z)|^2$ \")\n",
    "plt.plot(space, PsiSquared(space), color = 'blue', label = \"$|\\Psi (z) |^2$\")\n",
    "plt.xlabel(\"$z$\")\n",
    "plt.ylabel(\"$|\\Psi|^2$\")\n",
    "plt.grid()\n",
    "plt.legend(fontsize = 'xx-large')\n",
    "#plt.savefig(\"WavefunctionGraph.pdf\")\n"
   ]
  },
  {
   "cell_type": "markdown",
   "metadata": {},
   "source": [
    "## 2 - Newton - Coates Integration"
   ]
  },
  {
   "cell_type": "markdown",
   "metadata": {},
   "source": [
    "### Wrote a general routine to perform numerical integration of a user-supplied 1D function using the $extended$  $trapezoidal$ $rule$. Design your program so that it automatically refines the result to a user-specified relative accuracy $\\epsilon.$ This means that you should design your function so that one of its arguments is a pointer to another function, which will be the integrand. This other function should take a single argument (the value of the integration variable) and return the value of the integrand at that value of the integration variable."
   ]
  },
  {
   "cell_type": "code",
   "execution_count": 49,
   "metadata": {},
   "outputs": [
    {
     "data": {
      "text/plain": [
       "Text(0.5, 1.0, 'Plot of the Quadratic')"
      ]
     },
     "execution_count": 49,
     "metadata": {},
     "output_type": "execute_result"
    },
    {
     "data": {
      "image/png": "[encoded data removed]",
      "text/plain": [
       "<Figure size 432x288 with 1 Axes>"
      ]
     },
     "metadata": {
      "needs_background": "light"
     },
     "output_type": "display_data"
    }
   ],
   "source": [
    "#Create a sample function to test the function that integrates, lets say a quadratic \n",
    "\n",
    "x = np.linspace(0,3,100)\n",
    "\n",
    "def f(x):\n",
    "    \n",
    "    y = x*x\n",
    "    \n",
    "    return y\n",
    "\n",
    "#Now let's plot this function to visualise it:\n",
    "\n",
    "plt.plot(x,f(x), color = 'blue')\n",
    "plt.xlabel(\"$x$\")\n",
    "plt.ylabel(\"$f(x)$\")\n",
    "plt.grid()\n",
    "plt.title(\"Plot of the Quadratic\")\n",
    "#plt.savefig(\"TestCurveGraph.pdf\")"
   ]
  },
  {
   "cell_type": "code",
   "execution_count": 50,
   "metadata": {},
   "outputs": [],
   "source": [
    "#If we integrate this function between [0,10] then we should obtain 333.3\n",
    "\n",
    "def trz_int(f,a,b,epsilon):\n",
    "    \"\"\"\n",
    "    This function is meant to integrate f, where f is our function [a,b] are the limits.\n",
    "    It should give the result to a user-specified relative accuracy of epsilon.\n",
    "    It returns (I, Number of Evaluations) in this format.\n",
    "    \"\"\" \n",
    "    #First define our first value of h, which will be halved with every iteration.\n",
    "    h = b - a \n",
    "    I = (h/2) * (f(a) + f(b))     #First guess of I using trapezium rule\n",
    "    \n",
    "    accuracy = np.inf       #set initial accuracy value to be infinite to allow for first loop entry      \n",
    "    \n",
    "    h /= 2                  #Now we halve the value of h\n",
    "    n = 1\n",
    "    c = 1 \n",
    "    while accuracy > epsilon:\n",
    "        \n",
    "        temp = 0 \n",
    "        \n",
    "        for i in range(0,n):\n",
    "            c += 1\n",
    "            temp += f(a + h + i * (2*h))    #Evaluate intermediate points \n",
    "            \n",
    "        Ineo = I/2 + h*temp        #Our new estimation of the value of I\n",
    "        \n",
    "        accuracy = np.abs((Ineo - I) / I)\n",
    "        I = Ineo\n",
    "    \n",
    "        n *= 2                   #Double the number of samples per iteration\n",
    "        h /= 2                   #Halve the value of h \n",
    "        \n",
    "        err = I * accuracy       #As we are limited to this precision\n",
    "        N_eval = 2*n - 1         #Useful to know the total number of evaluations\n",
    "        \n",
    "    print(\"Total Number of Evaluations: \" , N_eval)   \n",
    "    print(\"The Integral between [a,b] is: \", I, \"+/-\", err)    \n",
    "    return (I, err, epsilon, N_eval)\n",
    "     "
   ]
  },
  {
   "cell_type": "code",
   "execution_count": 51,
   "metadata": {},
   "outputs": [
    {
     "name": "stdout",
     "output_type": "stream",
     "text": [
      "Total Number of Evaluations:  4095\n",
      "The Integral between [a,b] is:  333.3333730697632 +/- 0.00011920924691823743\n"
     ]
    },
    {
     "data": {
      "text/plain": [
       "(333.3333730697632, 0.00011920924691823743, 1e-06, 4095)"
      ]
     },
     "execution_count": 51,
     "metadata": {},
     "output_type": "execute_result"
    }
   ],
   "source": [
    "trz_int(f,0,10, 1E-6)"
   ]
  },
  {
   "cell_type": "markdown",
   "metadata": {},
   "source": [
    "### Implementing the Extended Trapezoidal Rule on our Wavefunction:"
   ]
  },
  {
   "cell_type": "markdown",
   "metadata": {},
   "source": [
    "#### What we are basically doing here is calculating:\n",
    "$$ P \\equiv \\int_a^b \\! |\\Psi(z)|^{2} \\, \\mathrm{d}z. $$"
   ]
  },
  {
   "cell_type": "code",
   "execution_count": 52,
   "metadata": {},
   "outputs": [
    {
     "name": "stdout",
     "output_type": "stream",
     "text": [
      "Total Number of Evaluations:  1023\n",
      "The Integral between [a,b] is:  0.4976610799507482 +/- 1.576746299043355e-07\n"
     ]
    },
    {
     "data": {
      "text/plain": [
       "(0.4976610799507482, 1.576746299043355e-07, 1e-06, 1023)"
      ]
     },
     "execution_count": 52,
     "metadata": {},
     "output_type": "execute_result"
    }
   ],
   "source": [
    "#We use z1 = a = 0 and z2 = b = 2, with an accuracy of 1E-6\n",
    "trz_int(PsiSquared, 0, 2, 1E-6)"
   ]
  },
  {
   "cell_type": "markdown",
   "metadata": {},
   "source": [
    "### We can check this by integrating the normalised wavefunction of a larger region:"
   ]
  },
  {
   "cell_type": "code",
   "execution_count": 53,
   "metadata": {},
   "outputs": [
    {
     "name": "stdout",
     "output_type": "stream",
     "text": [
      "Total Number of Evaluations:  63\n",
      "The Integral between [a,b] is:  0.9999999999973497 +/- 1.902478174961474e-11\n"
     ]
    },
    {
     "data": {
      "text/plain": [
       "(0.9999999999973497, 1.902478174961474e-11, 1e-06, 63)"
      ]
     },
     "execution_count": 53,
     "metadata": {},
     "output_type": "execute_result"
    }
   ],
   "source": [
    "#This should come out to be 1\n",
    "trz_int(PsiSquared, -5,5, 1E-6)"
   ]
  },
  {
   "cell_type": "markdown",
   "metadata": {},
   "source": [
    "##  Simpson's Rule"
   ]
  },
  {
   "cell_type": "markdown",
   "metadata": {},
   "source": [
    "### Write another routine to do the same using the extended version of Simpson's Rule."
   ]
  },
  {
   "cell_type": "code",
   "execution_count": 55,
   "metadata": {},
   "outputs": [],
   "source": [
    "def Sim_Int(f,a,b,epsilon):\n",
    "    \n",
    "    \"\"\"\n",
    "    Numerical Integration of the function f between [a,b] with accuracy epsilon.\n",
    "    The same principle as the previous routine.\n",
    "    The function returns the value of the integral and the number of evaluations in the format (I, N_eval)\n",
    "    \"\"\"\n",
    "    h = b - a \n",
    "    I = (h/2) * (f(a) + f(b)) \n",
    "    \n",
    "    accuracy = np.inf            #Again set this to infinity to loop at least once \n",
    "    h /= 2                       #Halve the value of h     \n",
    "    n = 1                        #No. of samples taken in every loop\n",
    "    \n",
    "    Simpson = I                  #Set Simpson as our initial guess from abobe to begin with\n",
    "    c = 1\n",
    "    while accuracy > epsilon:\n",
    "        \n",
    "        temp = 0         \n",
    "        \n",
    "        for i in range(0,n):\n",
    "            c += 1\n",
    "            temp += f(a + h + i * (2*h))    #Again taking all the point in between\n",
    "            \n",
    "        newI = I/2 + (h * temp)\n",
    "        new_Simpson = (4/3) * newI - (1/3) * I     #As per the relation to Trapezium Rule\n",
    "        accuracy = np.abs((new_Simpson - Simpson) / Simpson)\n",
    "        Simpson = new_Simpson\n",
    "        I = newI\n",
    "        \n",
    "        n *= 2       #Double the number of samples per iteration\n",
    "        h /= 2       #Halve the value of h\n",
    "        \n",
    "        err = Simpson * accuracy       #As we are limited to this precision\n",
    "        N_eval = 2*n - 1         #Useful to know the total number of evaluations\n",
    "    \n",
    "    print(\"Total Number of Evaluations: \", N_eval)\n",
    "    print(\"The Integral between [a,b] is: \", Simpson, \"+/-\", err) \n",
    "    return (Simpson, err, epsilon, N_eval)\n",
    "    "
   ]
  },
  {
   "cell_type": "markdown",
   "metadata": {},
   "source": [
    "### We can test out Simpson Routine on the sample quadratic function:"
   ]
  },
  {
   "cell_type": "code",
   "execution_count": 56,
   "metadata": {},
   "outputs": [
    {
     "name": "stdout",
     "output_type": "stream",
     "text": [
      "Total Number of Evaluations:  7\n",
      "The Integral between [a,b] is:  333.3333333333333 +/- 5.6843418860808e-14\n"
     ]
    },
    {
     "data": {
      "text/plain": [
       "(333.3333333333333, 5.6843418860808e-14, 1e-05, 7)"
      ]
     },
     "execution_count": 56,
     "metadata": {},
     "output_type": "execute_result"
    }
   ],
   "source": [
    "Sim_Int(f, 0, 10, 1E-5)"
   ]
  },
  {
   "cell_type": "markdown",
   "metadata": {},
   "source": [
    "### Now we can implement Simpson Integration on our Wavefuntion $\\Psi(z)$:"
   ]
  },
  {
   "cell_type": "code",
   "execution_count": 57,
   "metadata": {},
   "outputs": [
    {
     "name": "stdout",
     "output_type": "stream",
     "text": [
      "Total Number of Evaluations:  127\n",
      "The Integral between [a,b] is:  0.49766113031942405 +/- 3.285518696408377e-08\n"
     ]
    },
    {
     "data": {
      "text/plain": [
       "(0.49766113031942405, 3.285518696408377e-08, 1e-06, 127)"
      ]
     },
     "execution_count": 57,
     "metadata": {},
     "output_type": "execute_result"
    }
   ],
   "source": [
    "Sim_Int(PsiSquared, 0, 2, 1E-6)"
   ]
  },
  {
   "cell_type": "markdown",
   "metadata": {},
   "source": [
    "##### This can be tested using the Error Function, erf(x) which is defined as:\n",
    "\n",
    "$$ erf(x) = \\frac{1}{\\sqrt{\\pi}} \\int_{-x}^{x} e^{t^{2}}dt $$"
   ]
  },
  {
   "cell_type": "code",
   "execution_count": 58,
   "metadata": {},
   "outputs": [
    {
     "data": {
      "text/plain": [
       "0.49766113250947636"
      ]
     },
     "execution_count": 58,
     "metadata": {},
     "output_type": "execute_result"
    }
   ],
   "source": [
    "from scipy.special import erf\n",
    "\n",
    "erf(2) / 2      #We halve as the interval is only half the one defined above. "
   ]
  },
  {
   "cell_type": "markdown",
   "metadata": {},
   "source": [
    "## Monte Carlo Integration"
   ]
  },
  {
   "cell_type": "markdown",
   "metadata": {},
   "source": [
    "### Write a MC Integration routine that can integrate a user-supplied function using importance sampling, and automatically refines its result to a user-specified relative accuracy $\\epsilon$. Perform the integral twice more, this time using your Monte Carlo Integrator with:"
   ]
  },
  {
   "cell_type": "markdown",
   "metadata": {},
   "source": [
    "### (a) A flat sampling pdf (No Importance Sampling)\n",
    "### (b) A sampling pdf that drops off from a maximum at $x=0$ to a (non-zero) minimum at $x=2$"
   ]
  },
  {
   "cell_type": "code",
   "execution_count": 59,
   "metadata": {},
   "outputs": [],
   "source": [
    "def Monte_Carlo_int(function, a, b, number , epsilon, Imp_Samp_func = None, Rejection = False):\n",
    "    \"\"\"\n",
    "    Implementing Monte Carlo Integration on the function in [a,b] with relative accuracy epsilon.\n",
    "    We take samples whilst the relative accuracy is larger than the value of epsilon.\n",
    "    The \"number\" argument signified the number of times that we allow the accuracy to drop below epsion. \n",
    "    An importance sampling function can be user-supplied.\n",
    "    The logic argument Rejection signifies which method (Transformation / Rejection) is implemented.\n",
    "    \"\"\"\n",
    "    \n",
    "    Q = function \n",
    "    listofQ = []                    #Create empty list to append all Q values later\n",
    "\n",
    "    if Imp_Samp_func == None:       #Here we have NO Importance Sampling Function, thus = None\n",
    "        \n",
    "        print(\"Integrating without an Importance Sampling function\")\n",
    "        \n",
    "        N = 1                       #This is the number of times we will sample the function        \n",
    "        accuracy = np.inf           #set this as infinity for now so it always enters the while loop at least once\n",
    "        count1 = 0                  #Create a counter to calculate the relative accuracy later on \n",
    "        x = np.random.uniform(a,b)  #Create random, uniformly spaced numbers between [a,b]\n",
    "        avg = Q(x)                  #which is basically the function f(x) for an x between [a,b]\n",
    "        Q_sum = Q(x)                #Create the sum which begins with the first value of Q(x)\n",
    "                \n",
    "        while count1 < number:      #As long as we fall less times that the number we wish to take\n",
    "            \n",
    "            N += 1                                      #increase the times that we sample by 1\n",
    "            x = np.random.uniform(a,b)\n",
    "            Q_temp = Q(x)                               #create random number again in [a,b]\n",
    "            Q_sum += Q_temp                             #Basically doing the summation\n",
    "            listofQ.append(Q_temp)                      #Append the i_th value of F to this list to be used later on\n",
    "            new_avg = Q_sum / N                         #Define our new average depending on the number of samples taken\n",
    "            accuracy = np.abs((new_avg - avg) / avg)    #Calculate the relative accuracy to compare with the precision \n",
    "            avg  = new_avg                              #re-define average value so it becomes the old in the new iteration\n",
    "         \n",
    "            if accuracy < epsilon:  #This part is also done throughout this routine, with the same principles applied\n",
    "                count1 += 1         #track the number of times that the accuracy drops below epsion            \n",
    "            else:\n",
    "                count1 = 0          #as we consider consecutive times, reset the counter to zero if not less than epsilon\n",
    "        \n",
    "        I = np.abs(a-b) * avg       #Which is the volume (or in this 1D case the length) multiplied by the latest average value\n",
    "        st_dev = np.std(listofQ)    #The standard deviation of all the values appended in the list of F \n",
    "    \n",
    "    elif Rejection == True:          #Now considering the case that we use Importance Sampling with the Rejection method\n",
    "        \n",
    "        print(\"Importance Sampling with Rejection Method\")\n",
    "        P = Imp_Samp_func                 #This is just so that we avoid typing the whole of the argument name later on\n",
    "        Comparison = Imp_Samp_func(0)     #This is our comparison function, the sampling function at the origin\n",
    "        print(\"Comparison Function is y = \", Comparison)\n",
    "        \n",
    "        N = 0                       #This will represent the number of times\n",
    "        avg = 1                     #So that it doesn't messes up the first time we calculate it. Later on it's redefined\n",
    "        Q_sum = 0                   #set this to zero to begin with\n",
    "        accuracy = np.inf           #Set this to infinity to allow for at least one iteration\n",
    "        count2 = 0                  #Define a new count (same principle as above) and set it to zero to begin with\n",
    "    \n",
    "        while count2 < number:\n",
    "            \n",
    "            x_temp = np.random.uniform(a,b)              #Random number between the integration limits\n",
    "            P_temp = np.random.uniform(0,Comparison)     #Random number below the comparison function\n",
    "            \n",
    "            if P(x_temp) > P_temp:                       #given that we are above the comparison function\n",
    "                #print (\"Accepted\")      \n",
    "                N += 1                                   \n",
    "                Q_temp_unif = Q(x_temp) / P(x_temp)\n",
    "                Q_sum += Q_temp_unif                \n",
    "                listofQ.append(Q_temp_unif)\n",
    "                \n",
    "                new_avg = Q_sum / N\n",
    "                accuracy = np.abs((new_avg - avg) / avg)\n",
    "                avg = new_avg\n",
    "                \n",
    "                if accuracy < epsilon:     \n",
    "                    count2 += 1\n",
    "                else:\n",
    "                    count2 = 0      #dealing with consecutive times therefore reset to zero is creterion not met  \n",
    "                \n",
    "        I = avg                     #The integral here is just the average value\n",
    "        st_dev = np.std(listofQ)    \n",
    "                                 \n",
    "    else:        #Finally consider the case of Importance Sampling without the Rejection Method\n",
    "        \n",
    "        print (\"Importance sampling with Transormation Method\")\n",
    "        N = 0\n",
    "        accuracy = np.inf\n",
    "        count3  = 0 \n",
    "        uni = np.random.uniform(a,b)     \n",
    "        x = Imp_Samp_func(uni)[0]      #The [0]th output is what we intend to take further \n",
    "        avg = 1\n",
    "        Q_sum = Q(x)\n",
    "        \n",
    "        while count3 < number:      #where number is input by the user as an argument of the function\n",
    "            \n",
    "            N += 1 \n",
    "            uni = np.random.uniform(0,1)\n",
    "            x = Imp_Samp_func(uni)[0]\n",
    "            Q_temp_unif = Q(x) / Imp_Samp_func(x)[1]    #[1]th output of Imp_Samp_func gives pdf(x)            \n",
    "            Q_sum += Q_temp_unif\n",
    "            listofQ.append(Q_temp_unif)\n",
    "            \n",
    "            new_avg = Q_sum / N\n",
    "            accuracy = np.abs((new_avg - avg) / avg)\n",
    "            avg  = new_avg\n",
    "            \n",
    "            if accuracy < epsilon:\n",
    "                count3 +=1  \n",
    "            else:\n",
    "                count3 = 0\n",
    "                            \n",
    "        I = avg\n",
    "        st_dev = np.std(listofQ)\n",
    "        N = len(listofQ)          #The length of the whole list, which is the number of times it is sampled\n",
    "            \n",
    "    I_error = st_dev / np.sqrt(N)   #General formula for calculating the error\n",
    "    \n",
    "    #Print the output of the routine:\n",
    "    print(\"Integral: \", I)\n",
    "    print(\"Error in Intergral:\", I_error )\n",
    "    print(\"Number of Samples taken: \", N)\n",
    "    \n",
    "    #Useful to return the values as well in case they are to be used further:\n",
    "    return (I, I_error, epsilon, N)\n",
    " "
   ]
  },
  {
   "cell_type": "markdown",
   "metadata": {},
   "source": [
    "#### Testing the Routine without Importance Sampling;"
   ]
  },
  {
   "cell_type": "code",
   "execution_count": 60,
   "metadata": {},
   "outputs": [
    {
     "name": "stdout",
     "output_type": "stream",
     "text": [
      "Integrating without an Importance Sampling function\n",
      "Integral:  0.49615096485925864\n",
      "Error in Intergral: 0.0005781185634636707\n",
      "Number of Samples taken:  112829\n"
     ]
    },
    {
     "data": {
      "text/plain": [
       "(0.49615096485925864, 0.0005781185634636707, 0.0001, 112829)"
      ]
     },
     "execution_count": 60,
     "metadata": {},
     "output_type": "execute_result"
    }
   ],
   "source": [
    "Monte_Carlo_int(PsiSquared, 0, 2, 100000, 1.0E-4)"
   ]
  },
  {
   "cell_type": "markdown",
   "metadata": {},
   "source": [
    "#### Testing the Routine with Importance Sampling, with Rejection Method:"
   ]
  },
  {
   "cell_type": "markdown",
   "metadata": {},
   "source": [
    "##### First define a linear transofmation function so that we can have an Importance Sampling function. We consider the pdf $$ pdf(x) = Ax + B $$ with $A = -0.48$ and $B = 0.98$. "
   ]
  },
  {
   "cell_type": "code",
   "execution_count": 61,
   "metadata": {},
   "outputs": [
    {
     "data": {
      "image/png": "[encoded data removed]",
      "text/plain": [
       "<Figure size 432x288 with 1 Axes>"
      ]
     },
     "metadata": {
      "needs_background": "light"
     },
     "output_type": "display_data"
    }
   ],
   "source": [
    "n_random = 100000\n",
    "uni = np.random.uniform(0,1, n_random)     #This generates n_random random deviate numbers between the limits\n",
    "\n",
    "def linear_transform(uni):\n",
    "    \"\"\"\n",
    "    This function returns the inverted linear pdf (direct inversion), followed by the actual pdf in this format:\n",
    "    returns: [F(x), pdf(x)]\n",
    "    \"\"\"\n",
    "    A = -0.48\n",
    "    B = 0.98\n",
    "    \n",
    "    result = (-B/A) - np.sqrt(np.abs((B/A)**2 + (2/A)*uni))\n",
    "    \n",
    "    return result, (A*uni + B)\n",
    "\n",
    "#Can Plot a binned histogram to check that this works as expected:\n",
    "\n",
    "test = linear_transform(uni)[0]\n",
    "\n",
    "plt.hist(test, bins = 100, color = 'green', density = True, edgecolor = 'black', linewidth = 0.5)\n",
    "#plt.title(\"Histogram to Verify Linear Transformation Routine\")\n",
    "plt.xlabel(\"$x$\")\n",
    "plt.ylabel(\"Normalised frequency\")\n",
    "plt.grid()\n",
    "#plt.savefig(\"Binned_Histogram.pdf\")\n",
    "    "
   ]
  },
  {
   "cell_type": "markdown",
   "metadata": {},
   "source": [
    "Define a routine that just outputs a straight line (for Importance Sampling evaluation):"
   ]
  },
  {
   "cell_type": "code",
   "execution_count": 62,
   "metadata": {},
   "outputs": [],
   "source": [
    "def straight_line(x):\n",
    "    \"\"\"\n",
    "    Just a function that outputs a straight line Ax + B given user-supplied A, B values. \n",
    "    \"\"\"\n",
    "    A = -0.48\n",
    "    B = 0.98\n",
    "    \n",
    "    line_eqn = (A*x) + B\n",
    "    \n",
    "    return line_eqn"
   ]
  },
  {
   "cell_type": "markdown",
   "metadata": {},
   "source": [
    "Can check that this works correctly by visualising a plot:"
   ]
  },
  {
   "cell_type": "code",
   "execution_count": 63,
   "metadata": {},
   "outputs": [
    {
     "data": {
      "text/plain": [
       "Text(0.5, 1.0, 'Just plotting the line')"
      ]
     },
     "execution_count": 63,
     "metadata": {},
     "output_type": "execute_result"
    },
    {
     "data": {
      "image/png": "[encoded data removed]",
      "text/plain": [
       "<Figure size 432x288 with 1 Axes>"
      ]
     },
     "metadata": {
      "needs_background": "light"
     },
     "output_type": "display_data"
    }
   ],
   "source": [
    "x = np.linspace(0,2,200)\n",
    "\n",
    "plt.plot(x, straight_line(x), color = 'blue', label = \"Straight Line, $y=Ax + B$\")\n",
    "plt.grid()\n",
    "plt.xlabel(\"$x$\")\n",
    "plt.ylabel(\"$f(x)$\")\n",
    "plt.legend(fontsize = 'large')\n",
    "plt.title(\"Just plotting the line\")"
   ]
  },
  {
   "cell_type": "markdown",
   "metadata": {},
   "source": [
    "Now Actually carry out the Integration:"
   ]
  },
  {
   "cell_type": "code",
   "execution_count": 64,
   "metadata": {},
   "outputs": [
    {
     "name": "stdout",
     "output_type": "stream",
     "text": [
      "Importance Sampling with Rejection Method\n",
      "Comparison Function is y =  0.98\n",
      "Integral:  0.4936097964256641\n",
      "Error in Intergral: 0.005359778660264658\n",
      "Number of Samples taken:  663\n"
     ]
    },
    {
     "data": {
      "text/plain": [
       "(0.4936097964256641, 0.005359778660264658, 0.001, 663)"
      ]
     },
     "execution_count": 64,
     "metadata": {},
     "output_type": "execute_result"
    }
   ],
   "source": [
    "Monte_Carlo_int(PsiSquared, 0, 2, 100, 1.0E-3, Imp_Samp_func = straight_line , Rejection = True)"
   ]
  },
  {
   "cell_type": "markdown",
   "metadata": {},
   "source": [
    "#### Testing the Routine with Importance Sampling"
   ]
  },
  {
   "cell_type": "code",
   "execution_count": 65,
   "metadata": {},
   "outputs": [
    {
     "name": "stdout",
     "output_type": "stream",
     "text": [
      "Importance sampling with Transormation Method\n",
      "Integral:  0.49256788489456416\n",
      "Error in Intergral: 0.003469552031874718\n",
      "Number of Samples taken:  1592\n"
     ]
    },
    {
     "data": {
      "text/plain": [
       "(0.49256788489456416, 0.003469552031874718, 0.001, 1592)"
      ]
     },
     "execution_count": 65,
     "metadata": {},
     "output_type": "execute_result"
    }
   ],
   "source": [
    "Monte_Carlo_int(PsiSquared, 0, 2, 1000, 1.0E-3, Imp_Samp_func = linear_transform)"
   ]
  },
  {
   "cell_type": "markdown",
   "metadata": {},
   "source": [
    "## $$***ANALYSIS***$$"
   ]
  },
  {
   "cell_type": "markdown",
   "metadata": {},
   "source": [
    "## The code is now ready. We are now in the position to start analysing these routines to produce results. "
   ]
  },
  {
   "cell_type": "markdown",
   "metadata": {},
   "source": [
    "### We firstly begin by analysing the $Extended$ $Trapezoidal$ $Rule$ and how it is affected by the value of  $\\epsilon$."
   ]
  },
  {
   "cell_type": "markdown",
   "metadata": {},
   "source": [
    "#### Let's evaluate how the value of the Integral, the error and the number of evaluations required depend on the value of $\\epsilon$."
   ]
  },
  {
   "cell_type": "code",
   "execution_count": 67,
   "metadata": {},
   "outputs": [
    {
     "name": "stdout",
     "output_type": "stream",
     "text": [
      "Total Number of Evaluations:  31\n",
      "The Integral between [a,b] is:  0.4976074524113482 +/- 0.00015940861741300805\n",
      "Total Number of Evaluations:  63\n",
      "The Integral between [a,b] is:  0.4976476862010165 +/- 4.0237042750300344e-05\n",
      "Total Number of Evaluations:  255\n",
      "The Integral between [a,b] is:  0.49766029160190767 +/- 2.522324869476058e-06\n",
      "Total Number of Evaluations:  1023\n",
      "The Integral between [a,b] is:  0.4976610799507482 +/- 1.576746299043355e-07\n",
      "Total Number of Evaluations:  2047\n",
      "The Integral between [a,b] is:  0.4976611193697696 +/- 3.9419024502706674e-08\n",
      "Total Number of Evaluations:  8191\n",
      "The Integral between [a,b] is:  0.49766113168824394 +/- 2.463695870631181e-09\n",
      "Total Number of Evaluations:  32767\n",
      "The Integral between [a,b] is:  0.4976611324581504 +/- 1.5398260449263517e-10\n",
      "Total Number of Evaluations:  65535\n",
      "The Integral between [a,b] is:  0.49766113249664534 +/- 3.849492946925939e-11\n",
      "Total Number of Evaluations:  262143\n",
      "The Integral between [a,b] is:  0.4976611325086773 +/- 2.4076296512137625e-12\n",
      "The Slope of the line is:  -2.0001003288663397 +/- 0.04733129930786074\n"
     ]
    },
    {
     "data": {
      "image/png": "[encoded data removed]",
      "text/plain": [
       "<Figure size 432x288 with 1 Axes>"
      ]
     },
     "metadata": {
      "needs_background": "light"
     },
     "output_type": "display_data"
    }
   ],
   "source": [
    "values = []            #Create empty list that is to be appended with all the values that we are interested in later\n",
    "\n",
    "for power in range(3,12,1):                     #This allows for a quicker and easier analysis\n",
    "    epsilon = 10 ** (-power)\n",
    "    #print(\"Epsilon: \", epsilon)\n",
    "    values.append(trz_int(PsiSquared, 0, 2, epsilon))\n",
    "    \n",
    "\n",
    "values2 = np.asarray(values)     #convert to np array for easier manipulation\n",
    "epsilon = values2[:,2]           #store the column as the values of epsilon\n",
    "number = values2[:,3]            #store the column as the values of N\n",
    "\n",
    "def line(x,slope,intercept):     #This function is defined to allow for a line of best fit to be plotted\n",
    "    eqn = x * slope + intercept\n",
    "    return eqn\n",
    "\n",
    "plt.plot(np.log10(number),np.log10(epsilon), 'o', color = 'blue', label = 'Values')\n",
    "plt.grid()\n",
    "plt.xlabel(\"log(N)\")\n",
    "plt.ylabel(\"log($\\epsilon$)\")\n",
    "\n",
    "coeff, cov = curve_fit(line,np.log10(number),np.log10(epsilon))\n",
    "slope = coeff[0]\n",
    "slope_err = np.sqrt(cov[0,0])\n",
    "intercept = coeff[1]\n",
    "\n",
    "space = np.arange(1,6,0.01)\n",
    "plt.plot(space, line(space,*coeff),\"--\",color = \"red\", label =\"Line of Best Fit\")\n",
    "plt.legend(fontsize = 'x-large')\n",
    "plt.title(\"Analysing the Extended Trapezoidal Rule\")\n",
    "#plt.savefig(\"Extended_Trapezoidal_Analysis.pdf\")\n",
    "\n",
    "# Let's see some results:\n",
    "print(\"The Slope of the line is: \", slope, \"+/-\", slope_err)\n"
   ]
  },
  {
   "cell_type": "markdown",
   "metadata": {},
   "source": [
    "We can see that the slope comes out to be -2, which is in perfect agreement with what we expect as the Trapezium Rule scales ~ $1/N^2$"
   ]
  },
  {
   "cell_type": "markdown",
   "metadata": {},
   "source": [
    "### We can now analyse Simpson's Rule using the same principles."
   ]
  },
  {
   "cell_type": "code",
   "execution_count": 68,
   "metadata": {},
   "outputs": [
    {
     "name": "stdout",
     "output_type": "stream",
     "text": [
      "Total Number of Evaluations:  15\n",
      "The Integral between [a,b] is:  0.4976521729751664 +/- 0.00014282896219294778\n",
      "Total Number of Evaluations:  31\n",
      "The Integral between [a,b] is:  0.4976605716004128 +/- 8.398766985801869e-06\n",
      "Total Number of Evaluations:  63\n",
      "The Integral between [a,b] is:  0.49766109746423925 +/- 5.258643820936812e-07\n",
      "Total Number of Evaluations:  127\n",
      "The Integral between [a,b] is:  0.49766113031942405 +/- 3.285518696408377e-08\n",
      "Total Number of Evaluations:  127\n",
      "The Integral between [a,b] is:  0.49766113031942405 +/- 3.285518696408377e-08\n",
      "Total Number of Evaluations:  255\n",
      "The Integral between [a,b] is:  0.49766113237260284 +/- 2.0531788021191236e-09\n",
      "Total Number of Evaluations:  511\n",
      "The Integral between [a,b] is:  0.49766113250092175 +/- 1.2831891108544706e-10\n",
      "Total Number of Evaluations:  1023\n",
      "The Integral between [a,b] is:  0.4976611325089415 +/- 8.019751529660287e-12\n",
      "Total Number of Evaluations:  2047\n",
      "The Integral between [a,b] is:  0.4976611325094434 +/- 5.018763182823081e-13\n",
      "Total Number of Evaluations:  4095\n",
      "The Integral between [a,b] is:  0.49766113250947425 +/- 3.0864200084581264e-14\n",
      "Total Number of Evaluations:  4095\n",
      "The Integral between [a,b] is:  0.49766113250947425 +/- 3.0864200084581264e-14\n",
      "Total Number of Evaluations:  8191\n",
      "The Integral between [a,b] is:  0.49766113250947586 +/- 1.6098233857064821e-15\n",
      "The Slope of the line is:  -3.9915302099215775 +/- 0.12599871635686494\n"
     ]
    },
    {
     "data": {
      "image/png": "[encoded data removed]",
      "text/plain": [
       "<Figure size 432x288 with 1 Axes>"
      ]
     },
     "metadata": {
      "needs_background": "light"
     },
     "output_type": "display_data"
    }
   ],
   "source": [
    "values = []            #Create empty list that is to be appended with all the values that we are interested in later\n",
    "\n",
    "for power in range(3,15,1):                     #This allows for a quicker and easier analysis\n",
    "    epsilon = 10 ** (-power)\n",
    "    #print(\"Epsilon: \", epsilon)\n",
    "    values.append(Sim_Int(PsiSquared, 0, 2, epsilon))\n",
    "    \n",
    "values2 = np.asarray(values)     #convert to np array for easier manipulation\n",
    "epsilon = values2[:,2]           #store the column as the values of epsilon\n",
    "number = values2[:,3]            #store the column as the values of N\n",
    "\n",
    "def line(x,slope,intercept):     #This function is defined to allow for a line of best fit to be plotted\n",
    "    eqn = x * slope + intercept\n",
    "    return eqn\n",
    "\n",
    "plt.plot(np.log10(number),np.log10(epsilon), 'o', color = 'blue', label = 'Values')\n",
    "plt.grid()\n",
    "plt.xlabel(\"log(N)\")\n",
    "plt.ylabel(\"log($\\epsilon$)\")\n",
    "\n",
    "coeff, cov = curve_fit(line,np.log10(number),np.log10(epsilon))\n",
    "slope = coeff[0]\n",
    "slope_err = np.sqrt(cov[0,0])\n",
    "intercept = coeff[1]\n",
    "\n",
    "space = np.arange(1,4,0.01)\n",
    "plt.plot(space, line(space,*coeff),\"--\",color = \"red\", label =\"Line of Best Fit\")\n",
    "plt.legend(fontsize = 'x-large')\n",
    "plt.title(\"Analysing Simpson's Rule\")\n",
    "#plt.savefig(\"Simpson_Rule_Analysis.pdf\")\n",
    "\n",
    "# Let's see some results:\n",
    "print(\"The Slope of the line is: \", slope, \"+/-\", slope_err)\n"
   ]
  },
  {
   "cell_type": "markdown",
   "metadata": {},
   "source": [
    "Ideally, we expect the value of the slope to be -4 as Simpson's Rule scales ~ $1/N^4$"
   ]
  },
  {
   "cell_type": "markdown",
   "metadata": {},
   "source": [
    "### Now let's perform some Analysis on the Monte Carlo Integration Routine"
   ]
  },
  {
   "cell_type": "markdown",
   "metadata": {},
   "source": [
    "The most obvious thing to do would be doing the same thing, that is investigating the relationship between $\\epsilon$ and $N$ by plotting the graph. "
   ]
  },
  {
   "cell_type": "markdown",
   "metadata": {},
   "source": [
    "Let's begin by analysing the flat pdf case."
   ]
  },
  {
   "cell_type": "code",
   "execution_count": 69,
   "metadata": {},
   "outputs": [
    {
     "name": "stdout",
     "output_type": "stream",
     "text": [
      "Integrating without an Importance Sampling function\n",
      "Integral:  0.5012460919474774\n",
      "Error in Intergral: 0.009791583915092161\n",
      "Number of Samples taken:  390\n",
      "Integrating without an Importance Sampling function\n",
      "Integral:  0.5081200528033715\n",
      "Error in Intergral: 0.004200873496941769\n",
      "Number of Samples taken:  2147\n",
      "Integrating without an Importance Sampling function\n",
      "Integral:  0.5017029009557379\n",
      "Error in Intergral: 0.0015075399051391759\n",
      "Number of Samples taken:  16814\n",
      "Integrating without an Importance Sampling function\n",
      "Integral:  0.4942273419564001\n",
      "Error in Intergral: 0.0010961778386084059\n",
      "Number of Samples taken:  31599\n",
      "Integrating without an Importance Sampling function\n",
      "Integral:  0.49737251077098377\n",
      "Error in Intergral: 0.00035166478266048965\n",
      "Number of Samples taken:  305637\n",
      "Integrating without an Importance Sampling function\n",
      "Integral:  0.4977172702119879\n",
      "Error in Intergral: 0.0001497782893110492\n",
      "Number of Samples taken:  1685232\n",
      "The Slope of the line is:  -1.388998554812027 +/- 0.07440156694224966\n"
     ]
    },
    {
     "data": {
      "image/png": "[encoded data removed]",
      "text/plain": [
       "<Figure size 432x288 with 1 Axes>"
      ]
     },
     "metadata": {
      "needs_background": "light"
     },
     "output_type": "display_data"
    }
   ],
   "source": [
    "values = []            #Create empty list that is to be appended with all the values that we are interested in later\n",
    "\n",
    "for power in range(3,9,1):                     #This allows for a quicker and easier analysis\n",
    "    epsilon2 = 10 ** (-power)\n",
    "    #print(\"Epsilon: \", epsilon)\n",
    "    values.append(Monte_Carlo_int(PsiSquared,0,2,number = 3, epsilon = epsilon2, Imp_Samp_func = None, Rejection = False))\n",
    "    \n",
    "values2 = np.asarray(values)     #convert to np array for easier manipulation\n",
    "epsilon = values2[:,2]           #store the column as the values of epsilon\n",
    "number = values2[:,3]            #store the column as the values of N\n",
    "\n",
    "def line(x,slope,intercept):     #This function is defined to allow for a line of best fit to be plotted\n",
    "    eqn = x * slope + intercept\n",
    "    return eqn\n",
    "\n",
    "plt.plot(np.log10(number),np.log10(epsilon), 'o', color = 'blue', label = 'Values')\n",
    "plt.grid()\n",
    "plt.xlabel(\"log(N)\")\n",
    "plt.ylabel(\"log($\\epsilon$)\")\n",
    "\n",
    "coeff, cov = curve_fit(line,np.log10(number),np.log10(epsilon))\n",
    "slope = coeff[0]\n",
    "slope_err = np.sqrt(cov[0,0])\n",
    "intercept = coeff[1]\n",
    "\n",
    "space = np.arange(2,7,0.01)\n",
    "plt.plot(space, line(space,*coeff),\"--\",color = \"red\", label =\"Line of Best Fit\")\n",
    "plt.legend(fontsize = 'x-large')\n",
    "plt.title(\"Analysing MC Integration with Flat Sampling pdf\")\n",
    "#plt.savefig(\"MC_Flat_pdf_Analysis.pdf\")\n",
    "\n",
    "# Let's see some results:\n",
    "print(\"The Slope of the line is: \", slope, \"+/-\", slope_err)"
   ]
  },
  {
   "cell_type": "markdown",
   "metadata": {},
   "source": [
    "Moving on to analysing Monte Carlo Integration with Importance Sampling, we can define other importance sampling function that are to be used in the rejection method instead of using just a straight line, which was defined earlier in the $straight-line$ function. We can create a cosine and a quadratic function."
   ]
  },
  {
   "cell_type": "code",
   "execution_count": 70,
   "metadata": {},
   "outputs": [
    {
     "data": {
      "image/png": "[encoded data removed]",
      "text/plain": [
       "<Figure size 432x288 with 1 Axes>"
      ]
     },
     "metadata": {
      "needs_background": "light"
     },
     "output_type": "display_data"
    }
   ],
   "source": [
    "def quadratic(x): \n",
    "    eqn = (4 - x*x) * 0.1875\n",
    "    return eqn\n",
    "\n",
    "def cosine(x):    \n",
    "    #eqn = (np.cos(np.pi * x/2)) + 1\n",
    "    eqn = (np.cos(x * np.pi / 2) + 1) / 2\n",
    "    return eqn\n",
    "\n",
    "#Let's plot to see if they work ok, bearing in mind that we have to normalize them with the wavefunction pdf\n",
    "\n",
    "norm_factor = PsiSquared(0)      #This is the normalization factor that will divide the functions above\n",
    "x = np.linspace(0,2,1000)        #This is just the space over which we will plot, which is [a,b]\n",
    "\n",
    "plt.plot(x, PsiSquared(x), color = 'blue', label = \"$|\\Psi(x)|^2$\", linewidth = 5.0)\n",
    "plt.plot(x, quadratic(x) * norm_factor / quadratic(0), color = 'purple', label = \"Quadratic\")\n",
    "plt.plot(x, cosine(x) * norm_factor / cosine(0), color = 'red', label = \"Cosine\")\n",
    "plt.plot(x, straight_line(x) * norm_factor / straight_line(0), color = 'black', label = \"Str. Line\")\n",
    "\n",
    "plt.xlabel(\"$x$\")\n",
    "plt.ylabel(\"$f(x)$\")\n",
    "plt.title(\"Visualising the Rejection Functions\")\n",
    "\n",
    "plt.legend(fontsize = \"x-large\")\n",
    "plt.grid()\n",
    "\n",
    "#plt.savefig(\"Rejection_Functions_Visualisation.pdf\")"
   ]
  },
  {
   "cell_type": "markdown",
   "metadata": {},
   "source": [
    "Now let's implement these new Rejection methods: Linear, Quadratic, Cosine"
   ]
  },
  {
   "cell_type": "code",
   "execution_count": 71,
   "metadata": {},
   "outputs": [
    {
     "name": "stdout",
     "output_type": "stream",
     "text": [
      "*********Linear*********\n",
      "Importance Sampling with Rejection Method\n",
      "Comparison Function is y =  0.98\n",
      "Integral:  0.49772430988415584\n",
      "Error in Intergral: 0.0001844732554275408\n",
      "Number of Samples taken:  533165\n",
      "*********Quadratic*********\n",
      "Importance Sampling with Rejection Method\n",
      "Comparison Function is y =  0.75\n",
      "Integral:  0.4972332255295014\n",
      "Error in Intergral: 0.00025017343456897284\n",
      "Number of Samples taken:  651958\n",
      "*********Cosine*********\n",
      "Importance Sampling with Rejection Method\n",
      "Comparison Function is y =  1.0\n",
      "Integral:  0.49742084275780657\n",
      "Error in Intergral: 0.0002107208138890459\n",
      "Number of Samples taken:  197704\n"
     ]
    },
    {
     "data": {
      "text/plain": [
       "(0.49742084275780657, 0.0002107208138890459, 1e-06, 197704)"
      ]
     },
     "execution_count": 71,
     "metadata": {},
     "output_type": "execute_result"
    }
   ],
   "source": [
    "print(\"*********Linear*********\")\n",
    "Monte_Carlo_int(PsiSquared, 0, 2, 100, 1.0E-6, Imp_Samp_func = straight_line , Rejection = True)\n",
    "print(\"*********Quadratic*********\")\n",
    "Monte_Carlo_int(PsiSquared, 0, 2, 100, 1.0E-6, Imp_Samp_func = quadratic , Rejection = True)\n",
    "print(\"*********Cosine*********\")\n",
    "Monte_Carlo_int(PsiSquared, 0, 2, 100, 1.0E-6, Imp_Samp_func = cosine , Rejection = True)"
   ]
  },
  {
   "cell_type": "markdown",
   "metadata": {},
   "source": [
    "Finally, carry out some analysis for Monte Carlo Integration, using a Linear Transformation for Importance Sampling rather than the Rejection Method:"
   ]
  },
  {
   "cell_type": "code",
   "execution_count": 72,
   "metadata": {},
   "outputs": [
    {
     "name": "stdout",
     "output_type": "stream",
     "text": [
      "Importance sampling with Transormation Method\n",
      "Integral:  0.49784629574189854\n",
      "Error in Intergral: 0.0005356942506944301\n",
      "Number of Samples taken:  63059\n",
      "Importance sampling with Transormation Method\n",
      "Integral:  0.49750304583121924\n",
      "Error in Intergral: 0.0005388376348578545\n",
      "Number of Samples taken:  62927\n",
      "Importance sampling with Transormation Method\n",
      "Integral:  0.49764261245394764\n",
      "Error in Intergral: 0.0005371500496632051\n",
      "Number of Samples taken:  63005\n",
      "Importance sampling with Transormation Method\n",
      "Integral:  0.49736932539555473\n",
      "Error in Intergral: 0.0005383356920663566\n",
      "Number of Samples taken:  63047\n",
      "Importance sampling with Transormation Method\n",
      "Integral:  0.4974414344228406\n",
      "Error in Intergral: 0.0005371395938210234\n",
      "Number of Samples taken:  62859\n",
      "Importance sampling with Transormation Method\n",
      "Integral:  0.49759090776113957\n",
      "Error in Intergral: 0.0005374161335593276\n",
      "Number of Samples taken:  62923\n",
      "The Slope of the line is:  3.6216090087238276e-06 +/- 1.474384448215123e-07\n"
     ]
    },
    {
     "data": {
      "image/png": "[encoded data removed]",
      "text/plain": [
       "<Figure size 432x288 with 1 Axes>"
      ]
     },
     "metadata": {
      "needs_background": "light"
     },
     "output_type": "display_data"
    }
   ],
   "source": [
    "values = []            #Create empty list that is to be appended with all the values that we are interested in later\n",
    "\n",
    "for power in range(3,9,1):                     #This allows for a quicker and easier analysis\n",
    "    epsilon2 = 10 ** (-power)\n",
    "    #print(\"Epsilon: \", epsilon)\n",
    "    values.append(Monte_Carlo_int(PsiSquared, 0, 2, 1000, 1.0E-5, Imp_Samp_func = linear_transform))\n",
    "    \n",
    "values2 = np.asarray(values)     #convert to np array for easier manipulation\n",
    "epsilon = values2[:,2]           #store the column as the values of epsilon\n",
    "number = values2[:,3]            #store the column as the values of N\n",
    "\n",
    "def line(x,slope,intercept):     #This function is defined to allow for a line of best fit to be plotted\n",
    "    eqn = x * slope + intercept\n",
    "    return eqn\n",
    "\n",
    "plt.plot(np.log10(number),np.log10(epsilon), 'o', color = 'blue', label = 'Values')\n",
    "plt.grid()\n",
    "plt.xlabel(\"log(N)\")\n",
    "plt.ylabel(\"log($\\epsilon$)\")\n",
    "\n",
    "coeff, cov = curve_fit(line,np.log10(number),np.log10(epsilon))\n",
    "slope = coeff[0]\n",
    "slope_err = np.sqrt(cov[0,0])\n",
    "intercept = coeff[1]\n",
    "\n",
    "space = np.arange(4,5,0.01)\n",
    "plt.plot(space, line(space,*coeff),\"--\",color = \"red\", label =\"Line of Best Fit\")\n",
    "plt.legend(fontsize = 'x-large')\n",
    "plt.title(\"Analysing MC Integration with Transformation Method\")\n",
    "#plt.savefig(\"MC_Importance_Sampling_Transformation_Analysis.pdf\")\n",
    "\n",
    "# Let's see some results:\n",
    "print(\"The Slope of the line is: \", slope, \"+/-\", slope_err)"
   ]
  },
  {
   "cell_type": "code",
   "execution_count": null,
   "metadata": {},
   "outputs": [],
   "source": []
  }
 ],
 "metadata": {
  "kernelspec": {
   "display_name": "Python 3",
   "language": "python",
   "name": "python3"
  },
  "language_info": {
   "codemirror_mode": {
    "name": "ipython",
    "version": 3
   },
   "file_extension": ".py",
   "mimetype": "text/x-python",
   "name": "python",
   "nbconvert_exporter": "python",
   "pygments_lexer": "ipython3",
   "version": "3.7.1"
  }
 },
 "nbformat": 4,
 "nbformat_minor": 2
}
